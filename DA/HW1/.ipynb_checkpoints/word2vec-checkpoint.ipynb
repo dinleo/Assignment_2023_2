{
 "cells": [
  {
   "cell_type": "code",
   "execution_count": 1,
   "id": "21c1fc12852c9c90",
   "metadata": {
    "ExecuteTime": {
     "end_time": "2023-10-16T06:57:30.555448Z",
     "start_time": "2023-10-16T06:57:30.051590Z"
    }
   },
   "outputs": [],
   "source": [
    "import pandas as pd\n",
    "p = []\n",
    "with open('nsmc/ratings_train.txt') as f:\n",
    "    for ff in f:\n",
    "        p.append(ff.split('\\t')[1])\n"
   ]
  },
  {
   "cell_type": "code",
   "execution_count": 2,
   "id": "42fbdd31",
   "metadata": {
    "ExecuteTime": {
     "end_time": "2023-10-16T07:04:32.000039Z",
     "start_time": "2023-10-16T07:04:31.994815Z"
    }
   },
   "outputs": [
    {
     "name": "stdout",
     "output_type": "stream",
     "text": [
      "/usr/local/opt/python@3.11/bin/python3.11\n"
     ]
    }
   ],
   "source": [
    "import sys\n",
    "print(sys.executable)"
   ]
  },
  {
   "cell_type": "code",
   "execution_count": 2,
   "id": "c226a07f",
   "metadata": {
    "ExecuteTime": {
     "end_time": "2023-10-16T06:48:36.222044Z",
     "start_time": "2023-10-16T06:48:36.049927Z"
    }
   },
   "outputs": [
    {
     "ename": "ModuleNotFoundError",
     "evalue": "No module named 'MeCab'",
     "output_type": "error",
     "traceback": [
      "\u001b[0;31m---------------------------------------------------------------------------\u001b[0m",
      "\u001b[0;31mModuleNotFoundError\u001b[0m                       Traceback (most recent call last)",
      "Cell \u001b[0;32mIn[2], line 1\u001b[0m\n\u001b[0;32m----> 1\u001b[0m \u001b[38;5;28;01mimport\u001b[39;00m \u001b[38;5;21;01mMeCab\u001b[39;00m\n\u001b[1;32m      2\u001b[0m m \u001b[38;5;241m=\u001b[39m MeCab\u001b[38;5;241m.\u001b[39mTagger()\n\u001b[1;32m      3\u001b[0m t \u001b[38;5;241m=\u001b[39m m\u001b[38;5;241m.\u001b[39mparse(p[\u001b[38;5;241m1\u001b[39m])\n",
      "\u001b[0;31mModuleNotFoundError\u001b[0m: No module named 'MeCab'"
     ]
    }
   ],
   "source": [
    "import MeCab\n",
    "m = MeCab.Tagger()\n",
    "t = m.parse(p[1])\n",
    "t"
   ]
  },
  {
   "cell_type": "code",
   "execution_count": 41,
   "id": "37ebbb88",
   "metadata": {
    "ExecuteTime": {
     "end_time": "2023-10-16T05:31:29.295670Z",
     "start_time": "2023-10-16T05:31:20.162504Z"
    }
   },
   "outputs": [],
   "source": [
    "# https://radimrehurek.com/gensim/models/word2vec.html\n",
    "from konlpy.tag import Okt\n",
    "from gensim.models import Word2Vec\n",
    "from sklearn.decomposition import PCA\n",
    "import matplotlib.pyplot as plt\n",
    "\n",
    "\n",
    "# 예시로 데이터를 구성해보겠습니다.\n",
    "# Word2Vec 모델 학습\n",
    "model = Word2Vec(p, vector_size=100, window=5, min_count=1, workers=4)\n"
   ]
  },
  {
   "cell_type": "code",
   "execution_count": 42,
   "id": "6cef18ab",
   "metadata": {
    "ExecuteTime": {
     "end_time": "2023-10-16T05:32:01.205562Z",
     "start_time": "2023-10-16T05:32:01.194177Z"
    }
   },
   "outputs": [
    {
     "data": {
      "text/plain": [
       "array([-0.01449854,  0.02878354,  0.03335841, -0.00116722, -0.00583692,\n",
       "       -0.00682757,  0.00546722,  0.02822139, -0.02542516, -0.0030967 ,\n",
       "       -0.02106107, -0.0418339 , -0.00967205,  0.01216208,  0.0151569 ,\n",
       "       -0.02839706,  0.02783105, -0.01979711, -0.00454529, -0.05963841,\n",
       "        0.01179706, -0.00083869,  0.02381826, -0.02388761, -0.01374712,\n",
       "        0.01167036, -0.03167326,  0.00152468, -0.0196847 ,  0.02519636,\n",
       "        0.02396056,  0.01728194, -0.02085423, -0.01081488, -0.00208323,\n",
       "        0.02826068, -0.0002045 , -0.00447308, -0.01651139, -0.01201735,\n",
       "        0.00634985, -0.01944189, -0.0209456 ,  0.01013428,  0.00564998,\n",
       "       -0.0190528 , -0.03016639, -0.00937941,  0.00426659, -0.00644958,\n",
       "       -0.00090173, -0.02448368, -0.01211452, -0.00915086,  0.00084914,\n",
       "        0.00279827,  0.00904417, -0.0001213 ,  0.00642015,  0.02346722,\n",
       "        0.00205739,  0.00407192, -0.00038954,  0.02260066, -0.00434709,\n",
       "        0.0163778 , -0.00225842, -0.0016087 , -0.01956984,  0.02292282,\n",
       "       -0.01786883,  0.0276703 ,  0.02269741,  0.00216359,  0.0092186 ,\n",
       "        0.00878949,  0.01277474,  0.00243715, -0.0097624 ,  0.00376715,\n",
       "       -0.00520652, -0.00384136,  0.00315915,  0.03653703, -0.00187013,\n",
       "        0.00271701, -0.01368186,  0.01253878,  0.01581998, -0.00098047,\n",
       "        0.03500592,  0.02171373,  0.01650888,  0.0127468 ,  0.01973679,\n",
       "        0.01032532,  0.04643302, -0.02436033,  0.00268974,  0.00377885],\n",
       "      dtype=float32)"
      ]
     },
     "execution_count": 42,
     "metadata": {},
     "output_type": "execute_result"
    }
   ],
   "source": [
    "vector = model.wv['이별의']\n",
    "vector"
   ]
  },
  {
   "cell_type": "code",
   "execution_count": null,
   "id": "c032257964fb7916",
   "metadata": {},
   "outputs": [],
   "source": [
    "\n",
    "# 시각화를 위한 차원 축소\n",
    "X = model.wv.index_to_key\n",
    "pca = PCA(n_components=2)\n",
    "result = pca.fit_transform(X)\n",
    "\n",
    "# 단어 시각화\n",
    "plt.scatter(result[:, 0], result[:, 1])\n",
    "words = list(model.wv.vocab)\n",
    "for i, word in enumerate(words):\n",
    "    plt.annotate(word, xy=(result[i, 0], result[i, 1]))\n",
    "plt.show()"
   ]
  }
 ],
 "metadata": {
  "kernelspec": {
   "display_name": "Python 3 (ipykernel)",
   "language": "python",
   "name": "python3"
  },
  "language_info": {
   "codemirror_mode": {
    "name": "ipython",
    "version": 3
   },
   "file_extension": ".py",
   "mimetype": "text/x-python",
   "name": "python",
   "nbconvert_exporter": "python",
   "pygments_lexer": "ipython3",
   "version": "3.11.6"
  }
 },
 "nbformat": 4,
 "nbformat_minor": 5
}
