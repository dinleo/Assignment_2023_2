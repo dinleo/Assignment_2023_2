{
 "cells": [
  {
   "cell_type": "code",
   "execution_count": 3,
   "outputs": [
    {
     "ename": "UnicodeDecodeError",
     "evalue": "'cp949' codec can't decode byte 0xb3 in position 29: illegal multibyte sequence",
     "output_type": "error",
     "traceback": [
      "\u001B[1;31m---------------------------------------------------------------------------\u001B[0m",
      "\u001B[1;31mUnicodeDecodeError\u001B[0m                        Traceback (most recent call last)",
      "Cell \u001B[1;32mIn[3], line 2\u001B[0m\n\u001B[0;32m      1\u001B[0m \u001B[38;5;28;01mwith\u001B[39;00m \u001B[38;5;28mopen\u001B[39m(\u001B[38;5;124m'\u001B[39m\u001B[38;5;124mnsmc/ratings_test.txt\u001B[39m\u001B[38;5;124m'\u001B[39m) \u001B[38;5;28;01mas\u001B[39;00m f:\n\u001B[1;32m----> 2\u001B[0m     \u001B[38;5;28mprint\u001B[39m(\u001B[43mf\u001B[49m\u001B[38;5;241;43m.\u001B[39;49m\u001B[43mreadline\u001B[49m\u001B[43m(\u001B[49m\u001B[43m)\u001B[49m)\n",
      "\u001B[1;31mUnicodeDecodeError\u001B[0m: 'cp949' codec can't decode byte 0xb3 in position 29: illegal multibyte sequence"
     ]
    }
   ],
   "source": [
    "with open('nsmc/ratings_test.txt') as f:\n",
    "    print(f.readline())"
   ],
   "metadata": {
    "collapsed": false,
    "ExecuteTime": {
     "end_time": "2023-10-15T13:58:53.362435600Z",
     "start_time": "2023-10-15T13:58:53.336425Z"
    }
   },
   "id": "21c1fc12852c9c90"
  },
  {
   "cell_type": "code",
   "execution_count": null,
   "outputs": [],
   "source": [
    "from konlpy.tag import Okt\n",
    "from gensim.models import Word2Vec\n",
    "from sklearn.decomposition import PCA\n",
    "import matplotlib.pyplot as plt\n",
    "from torch import matri\n",
    "# 예시 데이터셋으로 불용어 제거와 명사 추출은 생략합니다.\n",
    "# 실제 데이터셋에 따라 전처리 과정이 달라질 수 있습니다.\n",
    "\n",
    "# 예시로 데이터를 구성해보겠습니다.\n",
    "sentences = [['네이버', '영화', '리뷰', '데이터셋', '단어', '임베딩', '시각화'], ['불용어', '제거', '명사', '단어', '임베딩', '표현']]\n",
    "\n",
    "# Word2Vec 모델 학습\n",
    "model = Word2Vec(sentences, size=100, window=5, min_count=1, workers=4)\n",
    "\n",
    "# 시각화를 위한 차원 축소\n",
    "X = model[model.wv.vocab]\n",
    "pca = PCA(n_components=2)\n",
    "result = pca.fit_transform(X)\n",
    "\n",
    "# 단어 시각화\n",
    "plt.scatter(result[:, 0], result[:, 1])\n",
    "words = list(model.wv.vocab)\n",
    "for i, word in enumerate(words):\n",
    "    plt.annotate(word, xy=(result[i, 0], result[i, 1]))\n",
    "plt.show()"
   ],
   "metadata": {
    "collapsed": false,
    "ExecuteTime": {
     "start_time": "2023-10-15T13:56:47.025630800Z"
    }
   },
   "id": "700893eb2667a894"
  },
  {
   "cell_type": "code",
   "execution_count": null,
   "outputs": [],
   "source": [],
   "metadata": {
    "collapsed": false
   },
   "id": "c032257964fb7916"
  }
 ],
 "metadata": {
  "kernelspec": {
   "display_name": "Python 3",
   "language": "python",
   "name": "python3"
  },
  "language_info": {
   "codemirror_mode": {
    "name": "ipython",
    "version": 2
   },
   "file_extension": ".py",
   "mimetype": "text/x-python",
   "name": "python",
   "nbconvert_exporter": "python",
   "pygments_lexer": "ipython2",
   "version": "2.7.6"
  }
 },
 "nbformat": 4,
 "nbformat_minor": 5
}
